{
  "nbformat": 4,
  "nbformat_minor": 0,
  "metadata": {
    "colab": {
      "provenance": []
    },
    "kernelspec": {
      "name": "python3",
      "display_name": "Python 3"
    },
    "language_info": {
      "name": "python"
    }
  },
  "cells": [
    {
      "cell_type": "markdown",
      "source": [
        "Problema 1 : Programar que imprima los números del 1 al 100"
      ],
      "metadata": {
        "id": "GUN4fH4hNr5q"
      }
    },
    {
      "cell_type": "code",
      "source": [
        "for i in range(1,101):\n",
        "    print(i)"
      ],
      "metadata": {
        "colab": {
          "base_uri": "https://localhost:8080/"
        },
        "id": "P3zg2RJoN1Fs",
        "outputId": "722b8435-745c-4254-d105-e89e59e83cde"
      },
      "execution_count": null,
      "outputs": [
        {
          "output_type": "stream",
          "name": "stdout",
          "text": [
            "1\n",
            "2\n",
            "3\n",
            "4\n",
            "5\n",
            "6\n",
            "7\n",
            "8\n",
            "9\n",
            "10\n",
            "11\n",
            "12\n",
            "13\n",
            "14\n",
            "15\n",
            "16\n",
            "17\n",
            "18\n",
            "19\n",
            "20\n",
            "21\n",
            "22\n",
            "23\n",
            "24\n",
            "25\n",
            "26\n",
            "27\n",
            "28\n",
            "29\n",
            "30\n",
            "31\n",
            "32\n",
            "33\n",
            "34\n",
            "35\n",
            "36\n",
            "37\n",
            "38\n",
            "39\n",
            "40\n",
            "41\n",
            "42\n",
            "43\n",
            "44\n",
            "45\n",
            "46\n",
            "47\n",
            "48\n",
            "49\n",
            "50\n",
            "51\n",
            "52\n",
            "53\n",
            "54\n",
            "55\n",
            "56\n",
            "57\n",
            "58\n",
            "59\n",
            "60\n",
            "61\n",
            "62\n",
            "63\n",
            "64\n",
            "65\n",
            "66\n",
            "67\n",
            "68\n",
            "69\n",
            "70\n",
            "71\n",
            "72\n",
            "73\n",
            "74\n",
            "75\n",
            "76\n",
            "77\n",
            "78\n",
            "79\n",
            "80\n",
            "81\n",
            "82\n",
            "83\n",
            "84\n",
            "85\n",
            "86\n",
            "87\n",
            "88\n",
            "89\n",
            "90\n",
            "91\n",
            "92\n",
            "93\n",
            "94\n",
            "95\n",
            "96\n",
            "97\n",
            "98\n",
            "99\n",
            "100\n"
          ]
        }
      ]
    },
    {
      "cell_type": "markdown",
      "source": [
        "Logrado!"
      ],
      "metadata": {
        "id": "WZ0mHcsVOjEK"
      }
    },
    {
      "cell_type": "markdown",
      "source": [
        "Problema 2: Que imprima los números del 1 al 100 que sean divisibles entre 3 con resto 0"
      ],
      "metadata": {
        "id": "FCe3XM8sODkC"
      }
    },
    {
      "cell_type": "code",
      "source": [
        "for i in range(1,101):\n",
        "     if i % 3 == 0:\n",
        "      print (i)"
      ],
      "metadata": {
        "colab": {
          "base_uri": "https://localhost:8080/"
        },
        "id": "NSGriLg6OVrL",
        "outputId": "08f4df15-8c73-4f8a-a8e8-87dfd3d60841"
      },
      "execution_count": null,
      "outputs": [
        {
          "output_type": "stream",
          "name": "stdout",
          "text": [
            "3\n",
            "6\n",
            "9\n",
            "12\n",
            "15\n",
            "18\n",
            "21\n",
            "24\n",
            "27\n",
            "30\n",
            "33\n",
            "36\n",
            "39\n",
            "42\n",
            "45\n",
            "48\n",
            "51\n",
            "54\n",
            "57\n",
            "60\n",
            "63\n",
            "66\n",
            "69\n",
            "72\n",
            "75\n",
            "78\n",
            "81\n",
            "84\n",
            "87\n",
            "90\n",
            "93\n",
            "96\n",
            "99\n"
          ]
        }
      ]
    },
    {
      "cell_type": "markdown",
      "source": [
        "creo haberlo logrado correctamente :)\n"
      ],
      "metadata": {
        "id": "awzGfH1COxQz"
      }
    },
    {
      "cell_type": "markdown",
      "source": [
        "Problema 3: Imprimir la suma de los números y que entregue el resultado de entre 100 y 150 o mayor a 150\n"
      ],
      "metadata": {
        "id": "dDwGPx0DO1Vj"
      }
    },
    {
      "cell_type": "code",
      "source": [
        " a=80\n",
        " b=6\n",
        "\n",
        " suma = a + b\n",
        " print (suma)\n",
        "\n",
        " if (suma<100):\n",
        "     print (\"La suma es menor a 100\")\n",
        "\n",
        "if (suma>100) and (suma<150):\n",
        "     print (\"La suma está entre 100 y 150\")\n",
        "\n",
        "if (suma>150):\n",
        "     print (\"La suma es mayor a 150\")"
      ],
      "metadata": {
        "colab": {
          "base_uri": "https://localhost:8080/"
        },
        "id": "RG3wH2brPSvH",
        "outputId": "6ea5c58d-0025-4d52-91f0-d03f33e7767d"
      },
      "execution_count": null,
      "outputs": [
        {
          "output_type": "stream",
          "name": "stdout",
          "text": [
            "86\n",
            "La suma es menor a 100\n"
          ]
        }
      ]
    },
    {
      "cell_type": "markdown",
      "source": [
        "Este fue más desafiante pero pude ir guiandome con la IA del programa y las instrucciones"
      ],
      "metadata": {
        "id": "5UMywReYO3J6"
      }
    },
    {
      "cell_type": "markdown",
      "source": [
        "Programa 4: Ingresar edad y que indique si es menor o mayor de 18 años y si le gusta o no programar ☺\n"
      ],
      "metadata": {
        "id": "dvvwSoPLQyeJ"
      }
    },
    {
      "cell_type": "code",
      "source": [
        "#edad y si le gusta programar\n",
        "edad= 40\n",
        "gusta_programar = True\n",
        "\n",
        "#Verificar si la edad es igual o mayor a 40 y si le gusta programar\n",
        "\n",
        "if (edad >= 18 and gusta_programar == True):\n",
        "   promedio = \"Es mayor de edad y le gusta programar\"\n",
        "   print (promedio)\n",
        "\n",
        "else:\n",
        " promedio=\"No es mayor de edad y no le gusta programar\"\n",
        " print (promedio)\n"
      ],
      "metadata": {
        "colab": {
          "base_uri": "https://localhost:8080/"
        },
        "id": "DOv9ze9BRJEy",
        "outputId": "29d6e0b3-5d80-4857-a7a5-9634110ff583"
      },
      "execution_count": null,
      "outputs": [
        {
          "output_type": "stream",
          "name": "stdout",
          "text": [
            "Es mayor de edad y le gusta programar\n"
          ]
        }
      ]
    },
    {
      "cell_type": "markdown",
      "source": [
        "Este fue el más desafiante de lograr, tuve que distintas  pruebas hasta que funcionó correctamente"
      ],
      "metadata": {
        "id": "7xL316rbOXHj"
      }
    }
  ]
}